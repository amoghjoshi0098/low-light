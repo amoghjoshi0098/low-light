{
  "nbformat": 4,
  "nbformat_minor": 0,
  "metadata": {
    "colab": {
      "name": "Unet_final.ipynb",
      "provenance": [],
      "collapsed_sections": [],
      "include_colab_link": true
    },
    "kernelspec": {
      "name": "python3",
      "display_name": "Python 3"
    },
    "language_info": {
      "name": "python"
    }
  },
  "cells": [
    {
      "cell_type": "markdown",
      "metadata": {
        "id": "view-in-github",
        "colab_type": "text"
      },
      "source": [
        "<a href=\"https://colab.research.google.com/github/amoghjoshi0098/low-light/blob/main/Unet_final.ipynb\" target=\"_parent\"><img src=\"https://colab.research.google.com/assets/colab-badge.svg\" alt=\"Open In Colab\"/></a>"
      ]
    },
    {
      "cell_type": "code",
      "metadata": {
        "id": "mPj0m54akDp-",
        "colab": {
          "base_uri": "https://localhost:8080/"
        },
        "outputId": "ad22cb6b-82c8-4485-80e4-7eada053b0b7"
      },
      "source": [
        "!pip install rawpy\n",
        "import argparse\n",
        "import rawpy\n",
        "\n",
        "import torch \n",
        "import torch.nn as nn\n",
        "import torch.nn.functional as F\n",
        "import torch.optim as optim\n",
        "import torchvision.transforms as transforms\n",
        "from torch.autograd import Variable\n",
        "import os\n",
        "from tqdm import tqdm\n",
        "import cv2\n",
        "import numpy as np\n",
        "import pandas as pd\n",
        "import os"
      ],
      "execution_count": null,
      "outputs": [
        {
          "output_type": "stream",
          "name": "stdout",
          "text": [
            "Collecting rawpy\n",
            "  Downloading rawpy-0.17.0-cp37-cp37m-manylinux_2_17_x86_64.manylinux2014_x86_64.whl (2.2 MB)\n",
            "\u001b[K     |████████████████████████████████| 2.2 MB 5.1 MB/s \n",
            "\u001b[?25hRequirement already satisfied: numpy in /usr/local/lib/python3.7/dist-packages (from rawpy) (1.19.5)\n",
            "Installing collected packages: rawpy\n",
            "Successfully installed rawpy-0.17.0\n"
          ]
        }
      ]
    },
    {
      "cell_type": "code",
      "source": [
        "# parser = argparse.ArgumentParser()\n",
        "# parser.add_argument(\"--continue_train\",help = \"True if u continue trainig, False if u want to train from starting\", default=False)\n",
        "# parser.add_argument(\"--epoch_no\",help=\"epoch number to load checkpoint\",default = 10)\n",
        "# parser.add_argument(\"--lr\",help = 'learning_rate',default=0.01)\n",
        "# parser.add_argument(\"--v\",help = 'result_folder_version')\n",
        "# args = parser.parse_args()\n",
        "# if args.continue_train:\n",
        "#     load_model = np.int(args.continue_train)\n",
        "# else:\n",
        "#     load_model = 0\n",
        "# if args.epoch_no:\n",
        "#     load_model_no = args.epoch_no\n",
        "# if args.lr:\n",
        "#     learning_rate = np.float32(args.lr)\n",
        "# if args.v:\n",
        "#     version = args.v\n",
        "load_model = 0"
      ],
      "metadata": {
        "id": "2wCDFI-S_Ic3"
      },
      "execution_count": null,
      "outputs": []
    },
    {
      "cell_type": "code",
      "source": [
        "no_epochs = 1000\n",
        "batch_size = 8\n",
        "save_freq = 5\n",
        "load_epoch = 0\n",
        "result_path = \"/content/drive/MyDrive/Sonymodels\"\n",
        "if(os.path.exists(result_path) == False):\n",
        "    os.mkdir(result_path)\n",
        "if(os.path.exists(result_path + 'models/') == False):\n",
        "    os.mkdir(result_path + 'models/')\n",
        "if(os.path.exists(result_path + 'image_mask/') == False):\n",
        "    os.mkdir(result_path + 'image_mask/')\n"
      ],
      "metadata": {
        "id": "_zcF3HS_dLsm"
      },
      "execution_count": null,
      "outputs": []
    },
    {
      "cell_type": "code",
      "source": [
        "from google.colab import drive\n",
        "drive.mount('/content/drive')"
      ],
      "metadata": {
        "colab": {
          "base_uri": "https://localhost:8080/"
        },
        "id": "xF6nVfTsdZcF",
        "outputId": "dc532862-2de2-46b4-dbc8-d1f5efef44b9"
      },
      "execution_count": null,
      "outputs": [
        {
          "output_type": "stream",
          "name": "stdout",
          "text": [
            "Mounted at /content/drive\n"
          ]
        }
      ]
    },
    {
      "cell_type": "code",
      "metadata": {
        "colab": {
          "base_uri": "https://localhost:8080/"
        },
        "id": "_IH8tzYlkgHv",
        "outputId": "8d1299c8-744d-4a3b-b15d-4e32162b2a03"
      },
      "source": [
        "device = torch.device('cuda' if torch.cuda.is_available() else 'cpu')\n",
        "print(device)\n"
      ],
      "execution_count": null,
      "outputs": [
        {
          "output_type": "stream",
          "name": "stdout",
          "text": [
            "cpu\n"
          ]
        }
      ]
    },
    {
      "cell_type": "code",
      "metadata": {
        "id": "CxP3unN1lzU0"
      },
      "source": [
        "class DataSet(torch.utils.data.Dataset):\n",
        "  def __init__(self, csv_file, root_directory_ground_truth,root_directory_input):\n",
        "    #initialisations\n",
        "    super(DataSet,self).__init__()\n",
        "    self.annotations = pd.read_csv(csv_file)\n",
        "    self.root_directory_input = root_directory_input\n",
        "    self.root_directory_ground_truth = root_directory_ground_truth\n",
        "  def __len__(self):\n",
        "    return len(self.annotations)\n",
        "  def __getitem__(self, index):\n",
        "    temp = self.annotations.iloc[index,0]\n",
        "    temp =  temp[2:len(temp)]\n",
        "    image_path = os.path.join(self.root_directory_input, temp)\n",
        "    temp = self.annotations.iloc[index,1]\n",
        "    temp =  temp[2:len(temp)]\n",
        "    image_mask_path = os.path.join(self.root_directory_ground_truth,temp)\n",
        "    #print(image_path,image_mask_path)\n",
        "    image = rawpy.imread(image_path)\n",
        "    image_mask = rawpy.imread(image_mask_path)\n",
        "    image = image.raw_image_visible\n",
        "    image_mask = image_mask.raw_image_visible\n",
        "    image = np.float32(image/255.0)\n",
        "    image_mask = np.float32(image_mask/255.0)\n",
        "    #print(np.max(image),np.max(image_mask))\n",
        "    image = torch.from_numpy(image)\n",
        "    image_mask = torch.from_numpy(image_mask)\n",
        "    return (image,image_mask)\n",
        "\n"
      ],
      "execution_count": null,
      "outputs": []
    },
    {
      "cell_type": "code",
      "source": [
        "root=os.getcwd()\n",
        "os.chdir(root)\n",
        "\n",
        "#Dataset\n",
        "dataset = DataSet(csv_file = '/content/drive/MyDrive/Sony/Trial.csv',\n",
        "    root_directory_input = '/content/drive/MyDrive/Sony',\n",
        "    root_directory_ground_truth ='/content/drive/MyDrive/Sony')\n",
        "\n",
        "\n",
        "#split\n",
        "print('length of dataset = ',len(dataset))\n",
        "train_data, test_data = torch.utils.data.random_split(dataset,[1500,364])\n",
        "\n",
        "#Dataloader\n",
        "train_load = torch.utils.data.DataLoader(train_data,batch_size = batch_size,shuffle = True,num_workers=4)\n",
        "test_load = torch.utils.data.DataLoader(test_data,batch_size = batch_size,shuffle = True,num_workers=0)\n",
        "save_load = torch.utils.data.DataLoader(train_data, batch_size=1, shuffle=True, num_workers=0)\n",
        "print('Data Loader initialized')\n"
      ],
      "metadata": {
        "colab": {
          "base_uri": "https://localhost:8080/"
        },
        "id": "TtjZP4NIenI5",
        "outputId": "62b7e0ea-1776-45d0-eca9-25daad174110"
      },
      "execution_count": null,
      "outputs": [
        {
          "output_type": "stream",
          "name": "stdout",
          "text": [
            "length of dataset =  1864\n",
            "Data Loader initialized\n"
          ]
        },
        {
          "output_type": "stream",
          "name": "stderr",
          "text": [
            "/usr/local/lib/python3.7/dist-packages/torch/utils/data/dataloader.py:481: UserWarning: This DataLoader will create 4 worker processes in total. Our suggested max number of worker in current system is 2, which is smaller than what this DataLoader is going to create. Please be aware that excessive worker creation might get DataLoader running slow or even freeze, lower the worker number to avoid potential slowness/freeze if necessary.\n",
            "  cpuset_checked))\n"
          ]
        }
      ]
    },
    {
      "cell_type": "code",
      "source": [
        ""
      ],
      "metadata": {
        "id": "gUvO3GivtmFQ"
      },
      "execution_count": null,
      "outputs": []
    },
    {
      "cell_type": "code",
      "metadata": {
        "id": "C9gFOIaln12X"
      },
      "source": [
        "#unet network\n",
        "class convBlock(nn.Module):\n",
        "  def __init__(self,in_ch,out_ch,kernel_size):\n",
        "    super(convBlock,self).__init__()\n",
        "    self.conv1 = nn.Conv2d(in_ch,out_ch,kernel_size,padding=1)\n",
        "    self.conv2 = nn.Conv2d(out_ch,out_ch,kernel_size,padding=1)\n",
        "    self.conv3 = nn.Conv2d(out_ch,out_ch,kernel_size)\n",
        "    self.maxpooling = nn.MaxPool2d(2)\n",
        "    self.relu = nn.ReLU(True)\n",
        "  def forward(self,x):\n",
        "    x = self.conv1(x)\n",
        "    x = self.conv2(x)\n",
        "    #x = self.conv3(x)\n",
        "    x = self.maxpooling(x)\n",
        "    x = self.relu(x)\n",
        "    return x\n",
        "\n",
        "\n"
      ],
      "execution_count": null,
      "outputs": []
    },
    {
      "cell_type": "code",
      "metadata": {
        "id": "8Y9iy0xjj7Vj"
      },
      "source": [
        "class decoder(nn.Module):\n",
        "  def __init__(self, in_ch, out_ch , kernel_size):\n",
        "    super(decoder, self ).__init__()\n",
        "    self.conv1 = nn.Conv2d( in_ch,out_ch , kernel_size,padding=1)\n",
        "    self.conv2 = nn.Conv2d(out_ch, out_ch, kernel_size,padding=1)\n",
        "    self.upsamplenn=nn.Upsample( scale_factor=2, mode='bilinear',align_corners=True)\n",
        "    self.relu= nn.ReLU(True)\n",
        "  def forward(self,x):\n",
        "   x = self.conv1(x)\n",
        "   x = self.conv2(x)\n",
        "   x = self.upsamplenn(x)\n",
        "   x = self.relu(x)\n",
        "   return x"
      ],
      "execution_count": null,
      "outputs": []
    },
    {
      "cell_type": "code",
      "metadata": {
        "id": "Oq6lwbsd4zmp"
      },
      "source": [
        "class unet(nn.Module):\n",
        "  def __init__(self):\n",
        "    super(unet,self).__init__()\n",
        "    self.convblock1 = convBlock(1,64,3)\n",
        "    self.convblock2 = convBlock(64,128,3)\n",
        "    self.convblock3 = convBlock(128,256,3)\n",
        "    self.convblock4 = convBlock(256,512,3)\n",
        "    self.convlayer5 = nn.Conv2d(512,1024,3,padding = 1)\n",
        "    self.convlayer6 = nn.Conv2d(1024,512,3,padding = 1)\n",
        "    self.convblock7 = decoder(1024,256,3)\n",
        "    self.convblock8 = decoder(512,128,3)\n",
        "    self.convblock9 = decoder(256,64,3)\n",
        "    self.convblock10 = decoder(128,64,3)\n",
        "    self.convlayer11 = nn.Conv2d(64,3,3,padding = 1)\n",
        "\n",
        "  def forward(self,x):\n",
        "    print('x',x.shape)\n",
        "\n",
        "    x1 = self.convblock1(x) \n",
        "    print('x1',x1.shape)\n",
        "\n",
        "    x2 = self.convblock2(x1)\n",
        "    print('x2',x2.shape)\n",
        "\n",
        "    x3 = self.convblock3(x2)\n",
        "    print('x3',x3.shape)\n",
        "\n",
        "    x4 = self.convblock4(x3)\n",
        "    print('x4',x4.shape)\n",
        "\n",
        "    x5 = self.convlayer5(x4)\n",
        "    print('x5',x5.shape)\n",
        "\n",
        "    x6 = self.convlayer6(x5)\n",
        "    print('x6',x6.shape)\n",
        "\n",
        "    catX = torch.cat((x6,x4),1)\n",
        "    print('cat',catX.shape)\n",
        "\n",
        "    x7 = self.convblock7(catX)\n",
        "    print('x7',x7.shape)\n",
        "\n",
        "    catX = torch.cat((x7,x3),1)\n",
        "    print('cat',catX.shape)\n",
        "\n",
        "    x8 = self.convblock8(catX)\n",
        "    print('x8',x8.shape)\n",
        "\n",
        "\n",
        "    catX = torch.cat((x8,x2),1)\n",
        "    print('cat',catX.shape)\n",
        "\n",
        "    x9 = self.convblock9(catX)\n",
        "    print('x9',x9.shape)\n",
        "   \n",
        "    catX = torch.cat((x9,x1),1)\n",
        "    print('cat',catX.shape)\n",
        "\n",
        "    x10 = self.convblock10(catX)\n",
        "    print('x10',x10.shape)\n",
        "\n",
        "    xOut = self.convlayer11(x10)\n",
        "    print('xOut',xOut.shape)\n",
        "\n",
        "    return xOut\n",
        "\n",
        "model = unet()"
      ],
      "execution_count": null,
      "outputs": []
    },
    {
      "cell_type": "code",
      "metadata": {
        "id": "3gAuRbburT3s"
      },
      "source": [
        "# input = torch.randn((1,1,512,512))\n",
        "# output = model(input)"
      ],
      "execution_count": null,
      "outputs": []
    },
    {
      "cell_type": "code",
      "metadata": {
        "id": "bHyuiBL3r5r0"
      },
      "source": [
        "#optimiser\n",
        "#nn.MSELoss(size_average=None, reduce=None, reduction='mean')\n",
        "criterion = nn.MSELoss()\n",
        "optimiser = optim.Adam(model.parameters(),lr = 1e-3)\n",
        "\n",
        "if load_model == 1:\n",
        "    print(\"Loading Model\")\n",
        "    load_path = result_path + 'models/' + str(load_model_no) + \"_model.pth\"\n",
        "    model.load_state_dict(torch.load(load_path)['model_state_dict'])\n",
        "    load_epoch = torch.load(load_path)[\"epoch\"]\n",
        "    optimizer.load_state_dict(torch.load(load_path)['optimizer_state_dict'])\n",
        "    optimizer.param_groups[0]['lr'] = learning_rate\n",
        "    print(\"Weights intialised\")\n",
        "    print('Learning Rate = ', optimizer.param_groups[0]['lr'])\n",
        "    f = open(result_path + 'Logs.txt','a')\n",
        "    f.write('continue from' + str(load_epoch) + '\\n')\n",
        "    f.close()\n",
        "    model.to(device)\n"
      ],
      "execution_count": null,
      "outputs": []
    },
    {
      "cell_type": "code",
      "source": [
        "f = open(result_path + 'Logs.txt','a')\n",
        "f.write('new_run \\n')\n",
        "f.close()\n",
        "##Train the model\n",
        "def train(train_load,epoch):\n",
        "    model.train()\n",
        "    current_loss = 0.0\n",
        "    test_loss=0.0\n",
        "    train_loss = 0.0\n",
        "    loop=tqdm(enumerate(train_load),total = 5,leave=False)\n",
        "    for i,data in loop:\n",
        "        inputs,labels = data\n",
        "        inputs,labels = inputs.to(device),labels.to(device)\n",
        "        inputs=inputs.unsqueeze(0)\n",
        "        inputs = inputs.permute(1, 1, 512, 512)\n",
        "        outputs = model(inputs)\n",
        "        outputs = outputs[:,0,:,:]\n",
        "        loss = criterion(outputs,labels)\n",
        "        loss.backward()\n",
        "        optimizer.step()\n",
        "        current_loss += loss.item()\n",
        "        #print(inputs.shape,current_loss)\n",
        "        optimizer.zero_grad()   \n",
        "        break\n",
        "    train_loss = current_loss/len(train_load)\n",
        "    print('trainig_loss for ' + str(epoch+1) +' epoch = ' + str(train_loss))\n",
        "    current_loss = 0.0\n",
        "    f = open(result_path + 'Logs.txt','a')\n",
        "    writer = 'training_loss for ' + str(epoch +1) + ' epoch = ' + str(train_loss)\n",
        "    f.write(writer)\n",
        "    f.close()\n",
        "    return train_loss"
      ],
      "metadata": {
        "id": "UdNCMgH_8CTX"
      },
      "execution_count": null,
      "outputs": []
    },
    {
      "cell_type": "code",
      "source": [
        "##Test The model\n",
        "def test(test_load,epoch):\n",
        "    model.eval()\n",
        "    current_loss = 0.0\n",
        "    loop = tqdm(enumerate(test_load),total=len(test_load),leave=False)\n",
        "    for j,data in loop:\n",
        "        inputs,labels = data\n",
        "        inputs,labels = inputs.to(device),labels.to(device)\n",
        "        ##inputs = inputs.permute(0,3,1,2)\n",
        "        with torch.no_grad():\n",
        "           outputs = model(inputs)\n",
        "           outputs = outputs[:,0,:,:]\n",
        "           loss = criterion(outputs,labels)\n",
        "           current_loss += loss.item()\n",
        "    test_loss = current_loss/len(test_load)\n",
        "    current_loss = 0.0\n",
        "    print('validation_loss for ' + str(epoch+1) + ' epoch  = ' + str(test_loss))\n",
        "    f = open(result_path + 'Logs.txt','a')\n",
        "    writer = 'validation_loss for ' + str(epoch + 1) + ' epoch = ' + str(test_loss)\n",
        "    f.write(writer)\n",
        "    f.close()\n",
        "    return test_loss\n",
        "\n"
      ],
      "metadata": {
        "id": "M06aWK1QEKNQ"
      },
      "execution_count": null,
      "outputs": []
    },
    {
      "cell_type": "code",
      "source": [
        "def save_result(test_load,epoch):\n",
        "    model.train()\n",
        "    model_path = result_path + 'models/' + str(epoch+1) + '_model.pth'\n",
        "    image_path = result_path + 'image_mask/' + str(epoch+1) + '_mask.png'\n",
        "    if(epoch%save_freq == 0):\n",
        "        torch.save({'epoch' : epoch,\n",
        "            'model_state_dict' : model.state_dict(),\n",
        "            'optimizer_state_dict':optimizer.state_dict()},\n",
        "            model_path)\n",
        "    loop = tqdm(enumerate(test_load),total=2,leave=False)\n",
        "    for j,data in loop:\n",
        "        inputs,labels = data\n",
        "        inputs,labels = inputs.to(device),labels.to(device)\n",
        "        ##inputs = inputs.permute(0,3,1,2)\n",
        "        with torch.no_grad():\n",
        "            outputs = model(inputs)\n",
        "            outputs = outputs[0,0,:,:]\n",
        "            outputs = np.array(outputs.cpu())\n",
        "            cv2.imwrite(image_path, outputs)\n",
        "            #print(\"Saved result of \" + str(epoch + 1) + str(outputs.shape))\n"
      ],
      "metadata": {
        "id": "eURb3Nw1EQ2y"
      },
      "execution_count": null,
      "outputs": []
    },
    {
      "cell_type": "code",
      "source": [
        "Tr_loss = []\n",
        "Te_loss = []\n",
        "for epoch in range(load_epoch,no_epochs):\n",
        "    temp = train(train_load,epoch)\n",
        "    Tr_loss.append(temp)\n",
        "    temp = test(test_load,epoch)\n",
        "    Te_loss.append(temp)\n",
        "    save_result(test_load,epoch)\n",
        "    PATH_latest = result_path + 'latest.pth'\n",
        "    Tr = pd.DataFrame(np.array(Tr_loss))\n",
        "    Tr.to_csv(result_path + 'train_loss.csv',header = None, index = None)\n",
        "    Te = pd.DataFrame(np.array(Te_loss))\n",
        "    Te.to_csv(result_path + 'test_loss.csv',header = None, index = None)\n",
        "    torch.save({'epoch' : epoch,\n",
        "        'model_state_dict' : model.state_dict(),\n",
        "        'optimizer_state_dict':optimizer.state_dict()},\n",
        "        result_path + 'latest_model.pth')\n",
        "print('Finished Trianing')\n",
        "PATH_final = result_path + 'Final_Model.pth'\n",
        "torch.save(model.state_dict(),PATH_final)"
      ],
      "metadata": {
        "colab": {
          "base_uri": "https://localhost:8080/",
          "height": 714
        },
        "id": "SsyHsjFcEVdZ",
        "outputId": "31ebbbb7-65ee-4011-efea-15c4b63b633e"
      },
      "execution_count": null,
      "outputs": [
        {
          "output_type": "stream",
          "name": "stderr",
          "text": [
            "/usr/local/lib/python3.7/dist-packages/torch/utils/data/dataloader.py:481: UserWarning: This DataLoader will create 4 worker processes in total. Our suggested max number of worker in current system is 2, which is smaller than what this DataLoader is going to create. Please be aware that excessive worker creation might get DataLoader running slow or even freeze, lower the worker number to avoid potential slowness/freeze if necessary.\n",
            "  cpuset_checked))\n"
          ]
        },
        {
          "output_type": "error",
          "ename": "LibRawIOError",
          "evalue": "ignored",
          "traceback": [
            "\u001b[0;31m---------------------------------------------------------------------------\u001b[0m",
            "\u001b[0;31mLibRawIOError\u001b[0m                             Traceback (most recent call last)",
            "\u001b[0;32m<ipython-input-17-8eb74242a46a>\u001b[0m in \u001b[0;36m<module>\u001b[0;34m()\u001b[0m\n\u001b[1;32m      2\u001b[0m \u001b[0mTe_loss\u001b[0m \u001b[0;34m=\u001b[0m \u001b[0;34m[\u001b[0m\u001b[0;34m]\u001b[0m\u001b[0;34m\u001b[0m\u001b[0;34m\u001b[0m\u001b[0m\n\u001b[1;32m      3\u001b[0m \u001b[0;32mfor\u001b[0m \u001b[0mepoch\u001b[0m \u001b[0;32min\u001b[0m \u001b[0mrange\u001b[0m\u001b[0;34m(\u001b[0m\u001b[0mload_epoch\u001b[0m\u001b[0;34m,\u001b[0m\u001b[0mno_epochs\u001b[0m\u001b[0;34m)\u001b[0m\u001b[0;34m:\u001b[0m\u001b[0;34m\u001b[0m\u001b[0;34m\u001b[0m\u001b[0m\n\u001b[0;32m----> 4\u001b[0;31m     \u001b[0mtemp\u001b[0m \u001b[0;34m=\u001b[0m \u001b[0mtrain\u001b[0m\u001b[0;34m(\u001b[0m\u001b[0mtrain_load\u001b[0m\u001b[0;34m,\u001b[0m\u001b[0mepoch\u001b[0m\u001b[0;34m)\u001b[0m\u001b[0;34m\u001b[0m\u001b[0;34m\u001b[0m\u001b[0m\n\u001b[0m\u001b[1;32m      5\u001b[0m     \u001b[0mTr_loss\u001b[0m\u001b[0;34m.\u001b[0m\u001b[0mappend\u001b[0m\u001b[0;34m(\u001b[0m\u001b[0mtemp\u001b[0m\u001b[0;34m)\u001b[0m\u001b[0;34m\u001b[0m\u001b[0;34m\u001b[0m\u001b[0m\n\u001b[1;32m      6\u001b[0m     \u001b[0mtemp\u001b[0m \u001b[0;34m=\u001b[0m \u001b[0mtest\u001b[0m\u001b[0;34m(\u001b[0m\u001b[0mtest_load\u001b[0m\u001b[0;34m,\u001b[0m\u001b[0mepoch\u001b[0m\u001b[0;34m)\u001b[0m\u001b[0;34m\u001b[0m\u001b[0;34m\u001b[0m\u001b[0m\n",
            "\u001b[0;32m<ipython-input-14-0608a9ba68e8>\u001b[0m in \u001b[0;36mtrain\u001b[0;34m(train_load, epoch)\u001b[0m\n\u001b[1;32m      9\u001b[0m     \u001b[0mtrain_loss\u001b[0m \u001b[0;34m=\u001b[0m \u001b[0;36m0.0\u001b[0m\u001b[0;34m\u001b[0m\u001b[0;34m\u001b[0m\u001b[0m\n\u001b[1;32m     10\u001b[0m     \u001b[0mloop\u001b[0m\u001b[0;34m=\u001b[0m\u001b[0mtqdm\u001b[0m\u001b[0;34m(\u001b[0m\u001b[0menumerate\u001b[0m\u001b[0;34m(\u001b[0m\u001b[0mtrain_load\u001b[0m\u001b[0;34m)\u001b[0m\u001b[0;34m,\u001b[0m\u001b[0mtotal\u001b[0m \u001b[0;34m=\u001b[0m \u001b[0;36m5\u001b[0m\u001b[0;34m,\u001b[0m\u001b[0mleave\u001b[0m\u001b[0;34m=\u001b[0m\u001b[0;32mFalse\u001b[0m\u001b[0;34m)\u001b[0m\u001b[0;34m\u001b[0m\u001b[0;34m\u001b[0m\u001b[0m\n\u001b[0;32m---> 11\u001b[0;31m     \u001b[0;32mfor\u001b[0m \u001b[0mi\u001b[0m\u001b[0;34m,\u001b[0m\u001b[0mdata\u001b[0m \u001b[0;32min\u001b[0m \u001b[0mloop\u001b[0m\u001b[0;34m:\u001b[0m\u001b[0;34m\u001b[0m\u001b[0;34m\u001b[0m\u001b[0m\n\u001b[0m\u001b[1;32m     12\u001b[0m         \u001b[0minputs\u001b[0m\u001b[0;34m,\u001b[0m\u001b[0mlabels\u001b[0m \u001b[0;34m=\u001b[0m \u001b[0mdata\u001b[0m\u001b[0;34m\u001b[0m\u001b[0;34m\u001b[0m\u001b[0m\n\u001b[1;32m     13\u001b[0m         \u001b[0minputs\u001b[0m\u001b[0;34m,\u001b[0m\u001b[0mlabels\u001b[0m \u001b[0;34m=\u001b[0m \u001b[0minputs\u001b[0m\u001b[0;34m.\u001b[0m\u001b[0mto\u001b[0m\u001b[0;34m(\u001b[0m\u001b[0mdevice\u001b[0m\u001b[0;34m)\u001b[0m\u001b[0;34m,\u001b[0m\u001b[0mlabels\u001b[0m\u001b[0;34m.\u001b[0m\u001b[0mto\u001b[0m\u001b[0;34m(\u001b[0m\u001b[0mdevice\u001b[0m\u001b[0;34m)\u001b[0m\u001b[0;34m\u001b[0m\u001b[0;34m\u001b[0m\u001b[0m\n",
            "\u001b[0;32m/usr/local/lib/python3.7/dist-packages/tqdm/std.py\u001b[0m in \u001b[0;36m__iter__\u001b[0;34m(self)\u001b[0m\n\u001b[1;32m   1178\u001b[0m \u001b[0;34m\u001b[0m\u001b[0m\n\u001b[1;32m   1179\u001b[0m         \u001b[0;32mtry\u001b[0m\u001b[0;34m:\u001b[0m\u001b[0;34m\u001b[0m\u001b[0;34m\u001b[0m\u001b[0m\n\u001b[0;32m-> 1180\u001b[0;31m             \u001b[0;32mfor\u001b[0m \u001b[0mobj\u001b[0m \u001b[0;32min\u001b[0m \u001b[0miterable\u001b[0m\u001b[0;34m:\u001b[0m\u001b[0;34m\u001b[0m\u001b[0;34m\u001b[0m\u001b[0m\n\u001b[0m\u001b[1;32m   1181\u001b[0m                 \u001b[0;32myield\u001b[0m \u001b[0mobj\u001b[0m\u001b[0;34m\u001b[0m\u001b[0;34m\u001b[0m\u001b[0m\n\u001b[1;32m   1182\u001b[0m                 \u001b[0;31m# Update and possibly print the progressbar.\u001b[0m\u001b[0;34m\u001b[0m\u001b[0;34m\u001b[0m\u001b[0;34m\u001b[0m\u001b[0m\n",
            "\u001b[0;32m/usr/local/lib/python3.7/dist-packages/torch/utils/data/dataloader.py\u001b[0m in \u001b[0;36m__next__\u001b[0;34m(self)\u001b[0m\n\u001b[1;32m    519\u001b[0m             \u001b[0;32mif\u001b[0m \u001b[0mself\u001b[0m\u001b[0;34m.\u001b[0m\u001b[0m_sampler_iter\u001b[0m \u001b[0;32mis\u001b[0m \u001b[0;32mNone\u001b[0m\u001b[0;34m:\u001b[0m\u001b[0;34m\u001b[0m\u001b[0;34m\u001b[0m\u001b[0m\n\u001b[1;32m    520\u001b[0m                 \u001b[0mself\u001b[0m\u001b[0;34m.\u001b[0m\u001b[0m_reset\u001b[0m\u001b[0;34m(\u001b[0m\u001b[0;34m)\u001b[0m\u001b[0;34m\u001b[0m\u001b[0;34m\u001b[0m\u001b[0m\n\u001b[0;32m--> 521\u001b[0;31m             \u001b[0mdata\u001b[0m \u001b[0;34m=\u001b[0m \u001b[0mself\u001b[0m\u001b[0;34m.\u001b[0m\u001b[0m_next_data\u001b[0m\u001b[0;34m(\u001b[0m\u001b[0;34m)\u001b[0m\u001b[0;34m\u001b[0m\u001b[0;34m\u001b[0m\u001b[0m\n\u001b[0m\u001b[1;32m    522\u001b[0m             \u001b[0mself\u001b[0m\u001b[0;34m.\u001b[0m\u001b[0m_num_yielded\u001b[0m \u001b[0;34m+=\u001b[0m \u001b[0;36m1\u001b[0m\u001b[0;34m\u001b[0m\u001b[0;34m\u001b[0m\u001b[0m\n\u001b[1;32m    523\u001b[0m             \u001b[0;32mif\u001b[0m \u001b[0mself\u001b[0m\u001b[0;34m.\u001b[0m\u001b[0m_dataset_kind\u001b[0m \u001b[0;34m==\u001b[0m \u001b[0m_DatasetKind\u001b[0m\u001b[0;34m.\u001b[0m\u001b[0mIterable\u001b[0m \u001b[0;32mand\u001b[0m\u001b[0;31m \u001b[0m\u001b[0;31m\\\u001b[0m\u001b[0;34m\u001b[0m\u001b[0;34m\u001b[0m\u001b[0m\n",
            "\u001b[0;32m/usr/local/lib/python3.7/dist-packages/torch/utils/data/dataloader.py\u001b[0m in \u001b[0;36m_next_data\u001b[0;34m(self)\u001b[0m\n\u001b[1;32m   1201\u001b[0m             \u001b[0;32melse\u001b[0m\u001b[0;34m:\u001b[0m\u001b[0;34m\u001b[0m\u001b[0;34m\u001b[0m\u001b[0m\n\u001b[1;32m   1202\u001b[0m                 \u001b[0;32mdel\u001b[0m \u001b[0mself\u001b[0m\u001b[0;34m.\u001b[0m\u001b[0m_task_info\u001b[0m\u001b[0;34m[\u001b[0m\u001b[0midx\u001b[0m\u001b[0;34m]\u001b[0m\u001b[0;34m\u001b[0m\u001b[0;34m\u001b[0m\u001b[0m\n\u001b[0;32m-> 1203\u001b[0;31m                 \u001b[0;32mreturn\u001b[0m \u001b[0mself\u001b[0m\u001b[0;34m.\u001b[0m\u001b[0m_process_data\u001b[0m\u001b[0;34m(\u001b[0m\u001b[0mdata\u001b[0m\u001b[0;34m)\u001b[0m\u001b[0;34m\u001b[0m\u001b[0;34m\u001b[0m\u001b[0m\n\u001b[0m\u001b[1;32m   1204\u001b[0m \u001b[0;34m\u001b[0m\u001b[0m\n\u001b[1;32m   1205\u001b[0m     \u001b[0;32mdef\u001b[0m \u001b[0m_try_put_index\u001b[0m\u001b[0;34m(\u001b[0m\u001b[0mself\u001b[0m\u001b[0;34m)\u001b[0m\u001b[0;34m:\u001b[0m\u001b[0;34m\u001b[0m\u001b[0;34m\u001b[0m\u001b[0m\n",
            "\u001b[0;32m/usr/local/lib/python3.7/dist-packages/torch/utils/data/dataloader.py\u001b[0m in \u001b[0;36m_process_data\u001b[0;34m(self, data)\u001b[0m\n\u001b[1;32m   1227\u001b[0m         \u001b[0mself\u001b[0m\u001b[0;34m.\u001b[0m\u001b[0m_try_put_index\u001b[0m\u001b[0;34m(\u001b[0m\u001b[0;34m)\u001b[0m\u001b[0;34m\u001b[0m\u001b[0;34m\u001b[0m\u001b[0m\n\u001b[1;32m   1228\u001b[0m         \u001b[0;32mif\u001b[0m \u001b[0misinstance\u001b[0m\u001b[0;34m(\u001b[0m\u001b[0mdata\u001b[0m\u001b[0;34m,\u001b[0m \u001b[0mExceptionWrapper\u001b[0m\u001b[0;34m)\u001b[0m\u001b[0;34m:\u001b[0m\u001b[0;34m\u001b[0m\u001b[0;34m\u001b[0m\u001b[0m\n\u001b[0;32m-> 1229\u001b[0;31m             \u001b[0mdata\u001b[0m\u001b[0;34m.\u001b[0m\u001b[0mreraise\u001b[0m\u001b[0;34m(\u001b[0m\u001b[0;34m)\u001b[0m\u001b[0;34m\u001b[0m\u001b[0;34m\u001b[0m\u001b[0m\n\u001b[0m\u001b[1;32m   1230\u001b[0m         \u001b[0;32mreturn\u001b[0m \u001b[0mdata\u001b[0m\u001b[0;34m\u001b[0m\u001b[0;34m\u001b[0m\u001b[0m\n\u001b[1;32m   1231\u001b[0m \u001b[0;34m\u001b[0m\u001b[0m\n",
            "\u001b[0;32m/usr/local/lib/python3.7/dist-packages/torch/_utils.py\u001b[0m in \u001b[0;36mreraise\u001b[0;34m(self)\u001b[0m\n\u001b[1;32m    432\u001b[0m             \u001b[0;31m# instantiate since we don't know how to\u001b[0m\u001b[0;34m\u001b[0m\u001b[0;34m\u001b[0m\u001b[0;34m\u001b[0m\u001b[0m\n\u001b[1;32m    433\u001b[0m             \u001b[0;32mraise\u001b[0m \u001b[0mRuntimeError\u001b[0m\u001b[0;34m(\u001b[0m\u001b[0mmsg\u001b[0m\u001b[0;34m)\u001b[0m \u001b[0;32mfrom\u001b[0m \u001b[0;32mNone\u001b[0m\u001b[0;34m\u001b[0m\u001b[0;34m\u001b[0m\u001b[0m\n\u001b[0;32m--> 434\u001b[0;31m         \u001b[0;32mraise\u001b[0m \u001b[0mexception\u001b[0m\u001b[0;34m\u001b[0m\u001b[0;34m\u001b[0m\u001b[0m\n\u001b[0m\u001b[1;32m    435\u001b[0m \u001b[0;34m\u001b[0m\u001b[0m\n\u001b[1;32m    436\u001b[0m \u001b[0;34m\u001b[0m\u001b[0m\n",
            "\u001b[0;31mLibRawIOError\u001b[0m: Caught LibRawIOError in DataLoader worker process 0.\nOriginal Traceback (most recent call last):\n  File \"/usr/local/lib/python3.7/dist-packages/torch/utils/data/_utils/worker.py\", line 287, in _worker_loop\n    data = fetcher.fetch(index)\n  File \"/usr/local/lib/python3.7/dist-packages/torch/utils/data/_utils/fetch.py\", line 49, in fetch\n    data = [self.dataset[idx] for idx in possibly_batched_index]\n  File \"/usr/local/lib/python3.7/dist-packages/torch/utils/data/_utils/fetch.py\", line 49, in <listcomp>\n    data = [self.dataset[idx] for idx in possibly_batched_index]\n  File \"/usr/local/lib/python3.7/dist-packages/torch/utils/data/dataset.py\", line 363, in __getitem__\n    return self.dataset[self.indices[idx]]\n  File \"<ipython-input-7-b2a3a3e282d2>\", line 18, in __getitem__\n    image = rawpy.imread(image_path)\n  File \"/usr/local/lib/python3.7/dist-packages/rawpy/__init__.py\", line 20, in imread\n    d.open_file(pathOrFile)\n  File \"rawpy/_rawpy.pyx\", line 409, in rawpy._rawpy.RawPy.open_file\n  File \"rawpy/_rawpy.pyx\", line 936, in rawpy._rawpy.RawPy.handle_error\nrawpy._rawpy.LibRawIOError: b'Input/output error'\n"
          ]
        }
      ]
    }
  ]
}